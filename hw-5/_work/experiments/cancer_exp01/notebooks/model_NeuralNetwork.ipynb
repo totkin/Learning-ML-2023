{
 "cells": [
  {
   "cell_type": "markdown",
   "id": "d6bdde53",
   "metadata": {},
   "source": [
    "# Neural Network"
   ]
  },
  {
   "cell_type": "markdown",
   "id": "603e352e",
   "metadata": {},
   "source": [
    "## Навигация\n",
    "\n",
    "1. [Предобработка](#Предобработка)\n",
    "1. [One-Hot Encoding модель](#One-Hot-Encoding-модель)\n",
    "1. [train/val/test разбивка и конвертация из DataFame в Dataset](#train/val/test-разбивка-и-конвертация-из-DataFame-в-Dataset)\n",
    "1. [Модель нейронной сети](#Модель-нейронной-сети)\n",
    "1. [SHAP values](#SHAP-values)"
   ]
  },
  {
   "cell_type": "code",
   "execution_count": 1,
   "id": "8dd09e22",
   "metadata": {},
   "outputs": [],
   "source": [
    "import os\n",
    "import sys\n",
    "sys.path.append('..')\n",
    "\n",
    "import matplotlib.pyplot as plt\n",
    "import numpy as np\n",
    "import pandas as pd\n",
    "import shap\n",
    "import tensorflow as tf\n",
    "\n",
    "import my_ds_tools\n",
    "import src"
   ]
  },
  {
   "cell_type": "code",
   "execution_count": 2,
   "id": "542bc84b-e03b-44e0-864d-6fc3134a6733",
   "metadata": {},
   "outputs": [],
   "source": [
    "pd.set_option('display.max_columns', None)\n",
    "tf.random.set_seed(src.constants.RANDOM_STATE)"
   ]
  },
  {
   "cell_type": "code",
   "execution_count": 3,
   "id": "a02cf331",
   "metadata": {},
   "outputs": [],
   "source": [
    "TRAIN_DATA_PATH = os.path.join('..', 'data', 'processed', 'train_data.csv')\n",
    "TEST_DATA_PATH = os.path.join('..', 'data', 'processed', 'test_data.csv')\n",
    "\n",
    "TRAIN_SIZE = .7\n",
    "VAL_SIZE = .2\n",
    "\n",
    "LAYER_WIDTH = 64\n",
    "BATCH_SIZE = 64\n",
    "NUM_EPOCHS = 300"
   ]
  },
  {
   "cell_type": "code",
   "execution_count": 4,
   "id": "187d2827",
   "metadata": {},
   "outputs": [],
   "source": [
    "train_data = pd.read_csv(TRAIN_DATA_PATH)\n",
    "test_data = pd.read_csv(TEST_DATA_PATH)\n",
    "\n",
    "X_train = train_data.drop(columns=src.constants.TARGET)\n",
    "X_test = test_data.drop(columns=src.constants.TARGET)\n",
    "y_train = train_data[src.constants.TARGET]\n",
    "y_test = test_data[src.constants.TARGET]"
   ]
  },
  {
   "cell_type": "markdown",
   "id": "03e02406",
   "metadata": {},
   "source": [
    "## Предобработка\n",
    "\n",
    "[Навигация](#Навигация)"
   ]
  },
  {
   "cell_type": "markdown",
   "id": "86d95d6b",
   "metadata": {},
   "source": [
    "Масштабируем численные признаки:\n",
    "- те, что имеют нормальное (Гаусово) распределение, стандартизируем\n",
    "- другие нормализуем"
   ]
  },
  {
   "cell_type": "code",
   "execution_count": 5,
   "id": "1e0ede48",
   "metadata": {},
   "outputs": [],
   "source": [
    "def standanrdized(\n",
    "    df: pd.DataFrame,\n",
    "    feature_name: str,\n",
    "    *,\n",
    "    fill_nan=0,\n",
    "    inplace: bool = False,\n",
    ") -> pd.DataFrame:\n",
    "    \"\"\"Возвращает df со стандартизированным столбцом feature_name.\"\"\"\n",
    "    if not inplace:\n",
    "        df = df.copy()\n",
    "\n",
    "    df.loc[df[feature_name].notna(), feature_name] = (df[feature_name] - df[feature_name].mean()) / df[feature_name].std()\n",
    "    df.loc[df[feature_name].isna(), feature_name] = fill_nan\n",
    "\n",
    "    return df"
   ]
  },
  {
   "cell_type": "code",
   "execution_count": 6,
   "id": "bc46d617",
   "metadata": {},
   "outputs": [],
   "source": [
    "def normalized(\n",
    "    df: pd.DataFrame,\n",
    "    feature_name: str,\n",
    "    *,\n",
    "    fill_nan=0,\n",
    "    inplace: bool = False,\n",
    ") -> pd.DataFrame:\n",
    "    \"\"\"Возвращает df с нормализованным столбцом feature_name.\"\"\"\n",
    "    if not inplace:\n",
    "        df = df.copy()\n",
    "\n",
    "    df.loc[df[feature_name].notna(), feature_name] = (df[feature_name] - df[feature_name].min()) / (df[feature_name].max() - df[feature_name].min())\n",
    "    df.loc[df[feature_name].isna(), feature_name] = fill_nan\n",
    "\n",
    "    return df"
   ]
  },
  {
   "cell_type": "code",
   "execution_count": 7,
   "id": "14252f08",
   "metadata": {},
   "outputs": [],
   "source": [
    "for df in [X_train, X_test]:\n",
    "    df = standanrdized(df, src.constants.QUESTION_2, inplace=True)\n",
    "    for i in [src.constants.QUESTION_4, src.constants.QUESTION_22, src.constants.QUESTION_24]:\n",
    "        df = normalized(df, i, inplace=True)"
   ]
  },
  {
   "cell_type": "markdown",
   "id": "d60d22c2",
   "metadata": {},
   "source": [
    "## One-Hot Encoding модель\n",
    "\n",
    "[Навигация](#Навигация)"
   ]
  },
  {
   "cell_type": "markdown",
   "id": "44a47378",
   "metadata": {},
   "source": [
    "One-Hot Encoding категориальных и ранговых признаков."
   ]
  },
  {
   "cell_type": "code",
   "execution_count": null,
   "id": "f555904f",
   "metadata": {},
   "outputs": [],
   "source": [
    "def make_prefix(string):\n",
    "    \"\"\"Выделяет из названия признака только его номер.\"\"\"\n",
    "    prefix = ''.join(char for char in string if char.isdigit())\n",
    "\n",
    "    if len(prefix) > 2:\n",
    "        prefix = prefix[:2]\n",
    "\n",
    "    return prefix"
   ]
  },
  {
   "cell_type": "code",
   "execution_count": null,
   "id": "790f8e36",
   "metadata": {},
   "outputs": [],
   "source": [
    "one_hot_df = data.copy()\n",
    "for feature in list(src.constants.CATEGORICAL_FEATURES) + list(src.constants.RANK_FEATURES):\n",
    "    prefix = make_prefix(feature)\n",
    "    one_hot_df = pd.concat(\n",
    "        [one_hot_df, pd.get_dummies(one_hot_df[feature], prefix=prefix, drop_first=True)],\n",
    "        axis=1\n",
    "    ).drop([feature], axis=1)"
   ]
  },
  {
   "cell_type": "markdown",
   "id": "4589af80",
   "metadata": {},
   "source": [
    "Переименую также и остальные столбцы."
   ]
  },
  {
   "cell_type": "code",
   "execution_count": null,
   "id": "e5a75d72",
   "metadata": {},
   "outputs": [],
   "source": [
    "for feature in src.constants.NUMERICAL_FEATURES + list(src.constants.BINARY_FEATURES):\n",
    "    prefix = make_prefix(feature)\n",
    "    one_hot_df.rename(columns={feature: prefix}, inplace=True)"
   ]
  },
  {
   "cell_type": "markdown",
   "id": "eb702f6c",
   "metadata": {},
   "source": [
    "## train/val/test разбивка и конвертация из DataFame в Dataset\n",
    "\n",
    "[Навигация](#Навигация)"
   ]
  },
  {
   "cell_type": "code",
   "execution_count": null,
   "id": "a1fc35a3",
   "metadata": {},
   "outputs": [],
   "source": [
    "print(\n",
    "    f'Обучающая часть содержит {y_train.shape[0]} точек данных.\\n'\n",
    "    f'Валидационная часть содержит {y_val.shape[0]} точек данных.\\n'\n",
    "    f'Тестовая часть содержит {y_test.shape[0]} точек данных.'\n",
    ")"
   ]
  },
  {
   "cell_type": "code",
   "execution_count": null,
   "id": "32793f15",
   "metadata": {},
   "outputs": [],
   "source": [
    "true_labels = y_test"
   ]
  },
  {
   "cell_type": "code",
   "execution_count": null,
   "id": "7578ceaa",
   "metadata": {},
   "outputs": [],
   "source": [
    "y_train = pd.get_dummies(y_train, prefix=src.constants.TARGET)\n",
    "y_val = pd.get_dummies(y_val, prefix=src.constants.TARGET)\n",
    "y_test = pd.get_dummies(y_test, prefix=src.constants.TARGET)"
   ]
  },
  {
   "cell_type": "markdown",
   "id": "69b7389a",
   "metadata": {},
   "source": [
    "## Модель нейронной сети\n",
    "\n",
    "[Навигация](#Навигация)"
   ]
  },
  {
   "cell_type": "code",
   "execution_count": null,
   "id": "245a29b2",
   "metadata": {},
   "outputs": [],
   "source": [
    "model = tf.keras.Sequential([\n",
    "    tf.keras.layers.Dense(LAYER_WIDTH, activation='relu', input_shape=(101,)),\n",
    "    tf.keras.layers.Dropout(.5),\n",
    "    tf.keras.layers.Dense(LAYER_WIDTH, activation='relu'),\n",
    "    tf.keras.layers.Dropout(.5),\n",
    "    tf.keras.layers.Dense(3, activation='softmax'),\n",
    "])"
   ]
  },
  {
   "cell_type": "code",
   "execution_count": null,
   "id": "52de5a19",
   "metadata": {},
   "outputs": [],
   "source": [
    "tf.keras.utils.plot_model(model, show_shapes=True, rankdir='TB', dpi=100)"
   ]
  },
  {
   "cell_type": "code",
   "execution_count": null,
   "id": "b09fd3da",
   "metadata": {},
   "outputs": [],
   "source": [
    "# Картинка встроена в jupyter notebook. Теперь удаляем файл, чтобы он не засорял проект.\n",
    "os.remove('model.png')"
   ]
  },
  {
   "cell_type": "code",
   "execution_count": null,
   "id": "729ed28f",
   "metadata": {},
   "outputs": [],
   "source": [
    "model.compile(optimizer='adam', loss='categorical_crossentropy', metrics=['accuracy'])"
   ]
  },
  {
   "cell_type": "code",
   "execution_count": null,
   "id": "c1f12927",
   "metadata": {},
   "outputs": [],
   "source": [
    "checkpoint = tf.keras.callbacks.ModelCheckpoint(\n",
    "    filepath=NEURAL_NETWORK_MODEL_PATH,\n",
    "    monitor='val_accuracy',\n",
    "    save_best_only=True,\n",
    "    mode='max',\n",
    ")\n",
    "callbacks_list = [checkpoint]\n",
    "\n",
    "history = model.fit(\n",
    "    X_train, y_train,\n",
    "    batch_size=BATCH_SIZE,\n",
    "    epochs=NUM_EPOCHS,\n",
    "    verbose=0,\n",
    "    callbacks=callbacks_list,\n",
    "    validation_data=(X_val, y_val),\n",
    ")"
   ]
  },
  {
   "cell_type": "code",
   "execution_count": null,
   "id": "89d73c93-52b7-4e9a-8a87-2767cd005932",
   "metadata": {},
   "outputs": [],
   "source": [
    "def plot_history(history, *, dpi=70) -> None:\n",
    "    \"\"\"\n",
    "    Визуализирует историю обучения.\n",
    "\n",
    "    Args:\n",
    "        history: собственно история.\n",
    "        dpi: количество пикселей на дюйм.\n",
    "\n",
    "    Returns:\n",
    "        Кортеж `(fig, axes)`.\n",
    "    \"\"\"\n",
    "    fig, axes = plt.subplots(1, 2, figsize=(12, 5), dpi=dpi)\n",
    "\n",
    "    for interes, ax in zip(['accuracy', 'loss'], axes):\n",
    "        ax.plot(history.history[interes], label=f'train_{interes}')\n",
    "        ax.plot(history.history[f'val_{interes}'], label=f'val_{interes}')\n",
    "        ax.set(xlabel='эпохи', ylabel=interes)\n",
    "        ax.legend()\n",
    "\n",
    "    return fig, axes"
   ]
  },
  {
   "cell_type": "code",
   "execution_count": null,
   "id": "0d87b50b",
   "metadata": {
    "scrolled": true
   },
   "outputs": [],
   "source": [
    "fig, axes = plot_history(history, dpi=70)"
   ]
  },
  {
   "cell_type": "code",
   "execution_count": null,
   "id": "87a1ef16",
   "metadata": {},
   "outputs": [],
   "source": [
    "model = tf.keras.models.load_model(NEURAL_NETWORK_MODEL_PATH)"
   ]
  },
  {
   "cell_type": "code",
   "execution_count": null,
   "id": "5810ee2b",
   "metadata": {},
   "outputs": [],
   "source": [
    "pred_probabilities = model.predict(X_test)\n",
    "pred_labels = []\n",
    "for pred_probability in pred_probabilities:\n",
    "    pred_label_index = np.array(pred_probability).argmax()\n",
    "    pred_label = sorted(src.constants.LABELS)[pred_label_index]\n",
    "    pred_labels.append(pred_label)\n",
    "    \n",
    "fig, ax = plt.subplots(figsize=(9, 6))\n",
    "ConfusionMatrixDisplay.from_predictions(true_labels, pred_labels, ax=ax)\n",
    "ax.set_xticklabels(ax.get_xticklabels(), rotation=30)\n",
    "plt.show()\n",
    "\n",
    "print(classification_report(true_labels, pred_labels))"
   ]
  },
  {
   "cell_type": "markdown",
   "id": "ac3122f9",
   "metadata": {},
   "source": [
    "## SHAP values\n",
    "\n",
    "[Навигация](#Навигация)"
   ]
  },
  {
   "cell_type": "code",
   "execution_count": null,
   "id": "c14f465a",
   "metadata": {},
   "outputs": [],
   "source": [
    "background = X_train.iloc[np.random.choice(X_train.shape[0], 100, replace=False)]"
   ]
  },
  {
   "cell_type": "code",
   "execution_count": null,
   "id": "4e63f2d4",
   "metadata": {},
   "outputs": [],
   "source": [
    "explainer = shap.DeepExplainer(model, background.to_numpy())\n",
    "shap_values = explainer.shap_values(X.to_numpy())"
   ]
  },
  {
   "cell_type": "code",
   "execution_count": null,
   "id": "4e648f22",
   "metadata": {},
   "outputs": [],
   "source": [
    "shap.summary_plot(shap_values, X)"
   ]
  }
 ],
 "metadata": {
  "kernelspec": {
   "display_name": "Python 3 (ipykernel)",
   "language": "python",
   "name": "python3"
  },
  "language_info": {
   "codemirror_mode": {
    "name": "ipython",
    "version": 3
   },
   "file_extension": ".py",
   "mimetype": "text/x-python",
   "name": "python",
   "nbconvert_exporter": "python",
   "pygments_lexer": "ipython3",
   "version": "3.11.4"
  }
 },
 "nbformat": 4,
 "nbformat_minor": 5
}
