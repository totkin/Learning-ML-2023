{
 "cells": [
  {
   "cell_type": "markdown",
   "id": "2fcf292f",
   "metadata": {},
   "source": [
    "## OTUS: Basic ML\n",
    "### Модуль 4. Теоретический минимум для ML: линейная алгебра, начала мат.анализа и оптимизации, статистика.\n",
    "#### Линейная алгебра"
   ]
  },
  {
   "cell_type": "code",
   "execution_count": 1,
   "id": "76f59140",
   "metadata": {},
   "outputs": [],
   "source": [
    "import numpy as np"
   ]
  },
  {
   "cell_type": "markdown",
   "id": "f14799bc",
   "metadata": {},
   "source": [
    "#### 1. Посчитайте матрицу D = A$^{T}$C − 2A$^{T}$B$^{T}$. Приведите полную последовательность вычислений."
   ]
  },
  {
   "cell_type": "code",
   "execution_count": 2,
   "id": "4cfe8f02",
   "metadata": {},
   "outputs": [
    {
     "name": "stdout",
     "output_type": "stream",
     "text": [
      "Результат вычислений:\n",
      " [[ 14  14 -11]\n",
      " [-16   3  -6]]\n"
     ]
    }
   ],
   "source": [
    "A = np.array([[2,-4],\n",
    "              [3 ,5 ],\n",
    "              [-1,0 ]])\n",
    "\n",
    "B = np.array([[1 ,2 ,7 ],\n",
    "              [-3,-4,0 ],\n",
    "              [5 ,2 ,1 ]])\n",
    "\n",
    "\n",
    "C = np.array([[6 ,-3,9 ],\n",
    "              [4 ,-5,2 ],\n",
    "              [8 ,1 ,5 ]])\n",
    "\n",
    "# Последовательность вычислений:\n",
    "# Транспонировать B       -> BT\n",
    "# Вычесть из С BT 2 раза  -> D\n",
    "# Транспонировать А       -> AT\n",
    "# Умножить AT на D        -> D\n",
    "D1 = A.T@(C-2*B.T)\n",
    "\n",
    "print('Результат вычислений:\\n', D1)"
   ]
  },
  {
   "cell_type": "markdown",
   "id": "dea6e82a",
   "metadata": {},
   "source": [
    "#### 2. Найдите значения x, y, z и v, при которых выражение верно."
   ]
  },
  {
   "cell_type": "code",
   "execution_count": 3,
   "id": "a364f17e",
   "metadata": {},
   "outputs": [
    {
     "name": "stdout",
     "output_type": "stream",
     "text": [
      "Результат вычислений:\n",
      " [[0 0 0]\n",
      " [0 0 0]] \n",
      " при x=2 , y=6 , z=-4 , v=10\n"
     ]
    }
   ],
   "source": [
    "# 3*A+2*B=C\n",
    "\n",
    "# A = np.array([[x,2,3],\n",
    "#               [-1,y,4]])\n",
    "\n",
    "# B = np.array([[1,2,-5],\n",
    "#               [2,-6,z]])\n",
    "\n",
    "# C = np.array([[8,v,-1],\n",
    "#               [1,6,4]])\n",
    "\n",
    "# Порядок вычислений\n",
    "# 3*x+2*1=8\n",
    "# 3*2+2*2=v\n",
    "# 3*y+2*(-6)=6\n",
    "# 3*4+2*z=4x=2\n",
    "\n",
    "x=2\n",
    "y=6\n",
    "z=-4\n",
    "v=10\n",
    "\n",
    "A = np.array([[x,2,3],\n",
    "              [-1,y,4]])\n",
    "\n",
    "B = np.array([[1,2,-5],\n",
    "              [2,-6,z]])\n",
    "\n",
    "C = np.array([[8,v,-1],\n",
    "              [1,6,4]])\n",
    "\n",
    "\n",
    "D=3*A+2*B-C\n",
    "\n",
    "print('Результат вычислений:\\n', D, f'\\n при x={x} , y={y} , z={z} , v={v}')"
   ]
  },
  {
   "cell_type": "markdown",
   "id": "75720b77",
   "metadata": {},
   "source": [
    "#### 3. Укажите те значения параметров p и q, при которых ранг матрицы равен единице\n",
    "_Рангом матрицы называется максимальное число линейно независимых строк (столбцов) этой матрицы._"
   ]
  },
  {
   "cell_type": "code",
   "execution_count": 4,
   "id": "73e1bde6",
   "metadata": {},
   "outputs": [
    {
     "name": "stdout",
     "output_type": "stream",
     "text": [
      "Ранг матрицы равен 1 при p=9 , q=15\n"
     ]
    }
   ],
   "source": [
    "p=9\n",
    "q=15\n",
    "\n",
    "M = np.array([[1,2,3],\n",
    "              [3,6,p],\n",
    "              [5,10,q],])\n",
    "\n",
    "result=np.linalg.matrix_rank(M)\n",
    "\n",
    "print(f'Ранг матрицы равен {result} при p={p} , q={q}')"
   ]
  },
  {
   "cell_type": "markdown",
   "id": "a454ca4d",
   "metadata": {},
   "source": [
    "#### 4. Задача\n",
    "Относительно канонического (стандартного) базиса в R$^{2}$ даны три вектора a$_{1}$ = (2, −5)$^{T}$, a$_{2}$ = (−1, 3)$^{T}$ и x = (1, −4)$^{T}$. Примите векторы a$_{1}$, a$_{2}$ за новый базис B, предварительно проверив, что они линейно\n",
    "независимы.\n",
    "\n",
    "4. (a) Найдите координаты [x]$_{B}$ вектора x в новом базисе.\n",
    "4. (b) Предположим, что координаты вектора y в базисе B заданы [y]$_{B}$ = (1, 1)$^{T}$. Найдите координаты вектора y в стандартном базисе."
   ]
  },
  {
   "cell_type": "code",
   "execution_count": 5,
   "id": "bda4e6db",
   "metadata": {},
   "outputs": [
    {
     "name": "stdout",
     "output_type": "stream",
     "text": [
      "Дано:\n",
      "a1: [[ 2]\n",
      " [-5]]\n",
      "a2: [[-1]\n",
      " [ 3]]\n",
      "x: [[ 1]\n",
      " [-4]]\n",
      "y: [[1]\n",
      " [1]]\n",
      "\n",
      "-------------------------------\n",
      "Векторы a1 и a2 образуют базис: True \n",
      "-------------------------------\n",
      "Координаты вектора [x]𝐵 в базисе a1,a2:\n",
      "[[-1.]\n",
      " [-3.]] \n",
      "-------------------------------\n",
      "Координаты вектора y в стандартном базисе:\n",
      "[[ 1]\n",
      " [-2]]\n"
     ]
    }
   ],
   "source": [
    "strDel=\"\\n-------------------------------\"\n",
    "print(\"Дано:\")\n",
    "a1 = np.array([[2,-5]]).T\n",
    "a2 = np.array([[-1, 3]]).T\n",
    "x = np.array([[1,-4]]).T\n",
    "y = np.array([[1, 1]]).T\n",
    "print(\"a1:\",a1)\n",
    "print(\"a2:\",a2)\n",
    "print(\"x:\",x)\n",
    "print(\"y:\",y)\n",
    "print(strDel)\n",
    "\n",
    "# Векторы образуют базис, если определитель, составленный из координат этих векторов, отличен от нуля\n",
    "M =np.hstack((a1,a2))\n",
    "result=np.linalg.det(M)\n",
    "print(f'Векторы a1 и a2 образуют базис: {result!=0}',strDel)\n",
    "\n",
    "# (1;-4) = (2α;-5a) + (-1b;3b)\n",
    "# (1;-4) = (2α - 1b ; -5α + 3b)\n",
    "# a= -1 , b= -3\n",
    "result=np.linalg.inv(np.column_stack((a1, a2))).dot(x)\n",
    "print(\"Координаты вектора [x]𝐵 в базисе a1,a2:\")\n",
    "print(result, strDel)\n",
    "\n",
    "\n",
    "# (y1;y2) = (2;-5) + (-1;3)\n",
    "# (y1;y2) = (2 - 1 ; -5 + 3)\n",
    "# y1= 1 , y2= -2\n",
    "print(\"Координаты вектора y в стандартном базисе:\")\n",
    "print(np.array([[1,-2]]).T)\n"
   ]
  },
  {
   "cell_type": "markdown",
   "id": "86f9880d",
   "metadata": {},
   "source": [
    "## Начала мат.анализа и оптимизации"
   ]
  },
  {
   "cell_type": "markdown",
   "id": "96c9aac2",
   "metadata": {},
   "source": [
    "### 1. Задача\n",
    "\n",
    "Посчитайте матрицу Гессе следующей функции:\n",
    "f(x) = x$^{3}_{1}$ − 2x$_{1}$x$_{2}$ + x$^{2}_{2}$ − 3x$_{1}$ − 2x$_{2}$, x ∈ R$^{2}$.\n",
    "\n",
    "Найдите критические точки x$_{c}$, такие что ∇f(x$_{c}$) = 0."
   ]
  },
  {
   "cell_type": "markdown",
   "id": "e6fb2f80",
   "metadata": {},
   "source": [
    "### Решение\n",
    "1. Найдем частные производные.\n",
    "\n",
    "$∂f(x) \\over ∂x_1$= 3x$_{1}^{2}$-2x$_{2}$-3\n",
    "\n",
    "$∂f(x) \\over ∂x_2$= -2x$_{1}$+2x$_{2}$-2\n",
    "\n",
    "2. Найдем частные производные второго порядка.\n",
    "\n",
    "$∂^2f(x) \\over ∂x^2_1$= 6x$_{1}$  ,  $∂^2f(x) \\over ∂x_2∂x_1$= -2\n",
    "\n",
    " $∂^2f(x) \\over ∂x_1∂x_2$= -2  ,  $∂^2f(x) \\over ∂x^2_2$= 2\n",
    " \n",
    "<hr>\n",
    "Матрица Гессе:\n",
    "\n",
    "$\\begin{vmatrix} 6x_{1} & -2  \\\\ -2 & 2  \\end{vmatrix}$\n",
    " \n",
    "<hr>\n",
    "\n",
    "3. Найдем x$_{c}$, такие что ∇f(x$_{c}$) = 0\n",
    "\n",
    "$\\begin{equation}\n",
    "\\left\\{ \\begin{aligned} \n",
    "3x_1^2-2x_2-3 = 0 \\\\\n",
    "-2x_1+2x_2-2 = 0\n",
    "\\end{aligned} \\right.\n",
    "\\end{equation}$\n",
    " \n",
    "<hr>\n",
    "$x_c$ (-1;0)\n",
    "\n",
    "$x_c  (\\frac{5}{3};\\frac{8}{3})$ \n",
    "\n",
    "<hr>"
   ]
  },
  {
   "cell_type": "markdown",
   "id": "4d549e82",
   "metadata": {},
   "source": [
    "### 2. Задача\n",
    "\n",
    "Проверьте, что функция $f(x) = ln(\\sqrt{x_1}+\\sqrt{x_2})$ удовлетворяет уравнению:\n",
    "\n",
    "$x_1 \\frac{∂f}{∂x_1} + x_2 \\frac{∂f}{∂x_2}= \\frac{1}{2} $"
   ]
  },
  {
   "cell_type": "markdown",
   "id": "d13a64d0",
   "metadata": {},
   "source": [
    "### Решение\n",
    "1. Найдем частные производные.\n",
    "\n",
    "$\\frac{∂f}{∂x_1}= \\frac{1}{2\\sqrt{x_1}\\Bigl(\\sqrt{x_1}+\\sqrt{x_2}\\Bigr) } $\n",
    "\n",
    "$\\frac{∂f}{∂x_2}= \\frac{1}{2\\sqrt{x_2}\\Bigl(\\sqrt{x_1}+\\sqrt{x_2}\\Bigr) } $\n",
    "\n",
    "2. Решим уравнение.\n",
    "\n",
    "$x_1 \\frac{∂f}{∂x_1} + x_2 \\frac{∂f}{∂x_2}= \\frac{1}{2} \\Bigl(\\frac{x_1}{\\sqrt{x_1}\\Bigl(\\sqrt{x_1}+\\sqrt{x_2} \\Bigr)} + \\frac{x_2}{\\sqrt{x_2}\\Bigl(\\sqrt{x_1}+\\sqrt{x_2} \\Bigr)}\\Bigr)= $ \n",
    "\n",
    "$= \\frac{1}{2} \\Bigl(\\frac{\\sqrt{x_1}}{\\Bigl(\\sqrt{x_1}+\\sqrt{x_2} \\Bigr)} + \\frac{\\sqrt{x_2}}{\\Bigl(\\sqrt{x_1}+\\sqrt{x_2} \\Bigr)}\\Bigr) = \\frac{1}{2}$"
   ]
  },
  {
   "cell_type": "markdown",
   "id": "4eea54d8",
   "metadata": {},
   "source": [
    "### 3. Задача\n",
    "\n",
    "Предположим, задана функция $f : R^3 → R^2$\n",
    "\n",
    "$f(x, y, z) = (x + y + z, xyz)^⊤ $\n",
    "\n",
    "Найдите матрицу Якоби $J_f$ функции $f$, и её численное значение в точке $v = (1, 2, 3)^⊤$"
   ]
  },
  {
   "cell_type": "markdown",
   "id": "cf9d2ceb",
   "metadata": {},
   "source": [
    "### Решение\n",
    "1. Найдем вид матрицы Якоби $J_f$.\n",
    "\n",
    "$\\begin{vmatrix} \\frac{∂f_1}{∂x} & \\frac{∂f_1}{∂y} & \\frac{∂f_1}{∂z} \\\\\n",
    "\\frac{∂f_2}{∂x} & \\frac{∂f_2}{∂y} & \\frac{∂f_2}{∂z}\n",
    "\\end{vmatrix}$ =\n",
    "\n",
    "= $\\begin{vmatrix} 1 & 1 & 1 \\\\\n",
    "yz & xz & xy\n",
    "\\end{vmatrix}$\n",
    "\n",
    "2. $J_f$ в точке $v = (1, 2, 3)^⊤$.\n",
    "\n",
    "$\\begin{vmatrix} 1 & 1 & 1 \\\\\n",
    "6 & 3 & 2\n",
    "\\end{vmatrix}$"
   ]
  },
  {
   "cell_type": "markdown",
   "id": "b3829d40",
   "metadata": {},
   "source": [
    "### 4. Задача\n",
    "Найти первый и второй дифференциалы $∂f(x)$ и $∂^2f(x)$, а также градиент $∇f(x)$ и гессиан $∇^2f(x)$ функции:\n",
    "\n",
    "$f(x) = \\frac{1}{3}||x||^3_2, x ∈ R^n$ \\ {0}."
   ]
  },
  {
   "cell_type": "markdown",
   "id": "bab2c086",
   "metadata": {},
   "source": [
    "### Решение\n",
    "1. Найдем ∂𝑓(𝑥).\n",
    "\n",
    "$f(x) = f(g(x)) = \\frac{1}{3}||x||^3_2 = \\frac{1}{3}\\Bigl(\\sum_{i=0}^{n}{x^2_i}\\Bigr)^3$\n",
    "\n",
    "$f(x) = \\frac{1}{3}||x||^3_2 = \\frac{1}{3}(g(x))^3$\n",
    "\n",
    "$g(x) = ||x|| $\n",
    "\n",
    "$∂f(x) =   $\n",
    "\n",
    "$g(x) = \\sum_{i=0}^{n}{x^2_i} $\n",
    "\n"
   ]
  },
  {
   "cell_type": "code",
   "execution_count": null,
   "id": "23acefd7",
   "metadata": {},
   "outputs": [],
   "source": []
  }
 ],
 "metadata": {
  "kernelspec": {
   "display_name": "Python 3 (ipykernel)",
   "language": "python",
   "name": "python3"
  },
  "language_info": {
   "codemirror_mode": {
    "name": "ipython",
    "version": 3
   },
   "file_extension": ".py",
   "mimetype": "text/x-python",
   "name": "python",
   "nbconvert_exporter": "python",
   "pygments_lexer": "ipython3",
   "version": "3.9.13"
  }
 },
 "nbformat": 4,
 "nbformat_minor": 5
}
