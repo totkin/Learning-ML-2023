{
 "cells": [
  {
   "cell_type": "markdown",
   "id": "655ff518",
   "metadata": {},
   "source": [
    "## Домашняя работа 6\n",
    "фев'24\n",
    "<hr>\n",
    "\n",
    "### Часть 1. EDA\n",
    "\n",
    "<br>Скачайте данные с Kaggle по ценам на жильё в Airbnb в Нью-Йорке:\n",
    "<br>Пройдите по основным шагам работы с данными:\n",
    "<ul><li>выкиньте ненужные признаки: id, name, host_id, host_name, last_review</li>\n",
    "<li>визуализируйте базовые статистики данных: распределения признаков, матрицу попарных корреляций, постройте pair plots</li>\n",
    "<li>про результатам анализа произведите предобработку переменных</li></ul>"
   ]
  },
  {
   "cell_type": "code",
   "execution_count": 1,
   "id": "9d5c7db5",
   "metadata": {},
   "outputs": [],
   "source": [
    "#!pip install numpy pandas seaborn matplotlib plotly scikit-learn kaggle"
   ]
  },
  {
   "cell_type": "code",
   "execution_count": 19,
   "id": "3c055775",
   "metadata": {},
   "outputs": [
    {
     "name": "stdout",
     "output_type": "stream",
     "text": [
      "Wall time: 1e+03 µs\n"
     ]
    }
   ],
   "source": [
    "%%time\n",
    "\n",
    "import numpy as np\n",
    "import pandas as pd\n",
    "\n",
    "import matplotlib.pyplot as plt\n",
    "%matplotlib inline\n",
    "\n",
    "import seaborn as sns\n",
    "sns.set_style('darkgrid')\n",
    "\n",
    "import plotly.express as px\n",
    "\n",
    "import warnings\n",
    "warnings.filterwarnings(\"ignore\")\n",
    "\n",
    "from IPython.display import HTML, display\n"
   ]
  },
  {
   "cell_type": "code",
   "execution_count": 38,
   "id": "895d7527",
   "metadata": {},
   "outputs": [],
   "source": [
    "def short_describe(df, sample_size=5, repiter=125):\n",
    "    repiter='>'*repiter\n",
    "    nRow, nCol = df.shape\n",
    "    display(HTML(f'<b>There are {nRow} rows and {nCol} columns</b>'))\n",
    "    display(HTML(\"<hr>\"))\n",
    "    d_test=df.sample(n=sample_size, random_state=42).T\n",
    "    d_test['datatypes']=df.dtypes\n",
    "    d_describe=df.describe(include='all').T\n",
    "    \n",
    "    for i in ['count','min','mean','max','std', 'unique', 'freq']:\n",
    "        d_test[i]=d_describe[i]\n",
    "        if i in ['min','mean',]:\n",
    "            d_test[i].fillna('-', inplace=True)\n",
    "\n",
    "    d_test['max'].fillna(d_test['unique'], inplace=True)\n",
    "    d_test['std'].fillna(d_test['freq'], inplace=True)\n",
    "    d_test.rename(columns = {'max':'max / unique','std':'std / freq'}, inplace = True)\n",
    "    d_test=d_test.drop(columns=['unique','freq'])\n",
    "    \n",
    "    display(d_test)\n",
    "\n",
    "    \n",
    "    lst_num = df.select_dtypes(include='object').columns.tolist()\n",
    "    lst_str = df.select_dtypes(include='number').columns.tolist()\n",
    "    display(HTML(f'<hr><b>Numeric columns ({len(lst_num)}):</b>'))\n",
    "    print(lst_num)\n",
    "    display(HTML(f'<hr><b>String columns ({len(lst_str)}):</b>'))\n",
    "    print(lst_str)\n",
    "    display(HTML(\"<hr>\"))\n",
    "    \n",
    "    return lst_num, lst_str"
   ]
  },
  {
   "cell_type": "code",
   "execution_count": 39,
   "id": "ef1ec470",
   "metadata": {},
   "outputs": [
    {
     "data": {
      "text/html": [
       "<b>There are 1000 rows and 11 columns</b>"
      ],
      "text/plain": [
       "<IPython.core.display.HTML object>"
      ]
     },
     "metadata": {},
     "output_type": "display_data"
    },
    {
     "data": {
      "text/html": [
       "<hr>"
      ],
      "text/plain": [
       "<IPython.core.display.HTML object>"
      ]
     },
     "metadata": {},
     "output_type": "display_data"
    },
    {
     "data": {
      "text/html": [
       "<div>\n",
       "<style scoped>\n",
       "    .dataframe tbody tr th:only-of-type {\n",
       "        vertical-align: middle;\n",
       "    }\n",
       "\n",
       "    .dataframe tbody tr th {\n",
       "        vertical-align: top;\n",
       "    }\n",
       "\n",
       "    .dataframe thead th {\n",
       "        text-align: right;\n",
       "    }\n",
       "</style>\n",
       "<table border=\"1\" class=\"dataframe\">\n",
       "  <thead>\n",
       "    <tr style=\"text-align: right;\">\n",
       "      <th></th>\n",
       "      <th>521</th>\n",
       "      <th>737</th>\n",
       "      <th>740</th>\n",
       "      <th>660</th>\n",
       "      <th>411</th>\n",
       "      <th>datatypes</th>\n",
       "      <th>count</th>\n",
       "      <th>min</th>\n",
       "      <th>mean</th>\n",
       "      <th>max / unique</th>\n",
       "      <th>std / freq</th>\n",
       "    </tr>\n",
       "  </thead>\n",
       "  <tbody>\n",
       "    <tr>\n",
       "      <th>neighbourhood_group</th>\n",
       "      <td>Brooklyn</td>\n",
       "      <td>Bronx</td>\n",
       "      <td>Manhattan</td>\n",
       "      <td>Manhattan</td>\n",
       "      <td>Brooklyn</td>\n",
       "      <td>object</td>\n",
       "      <td>1000</td>\n",
       "      <td>-</td>\n",
       "      <td>-</td>\n",
       "      <td>5.00000</td>\n",
       "      <td>470.000000</td>\n",
       "    </tr>\n",
       "    <tr>\n",
       "      <th>neighbourhood</th>\n",
       "      <td>East New York</td>\n",
       "      <td>Wakefield</td>\n",
       "      <td>Harlem</td>\n",
       "      <td>Harlem</td>\n",
       "      <td>Park Slope</td>\n",
       "      <td>object</td>\n",
       "      <td>1000</td>\n",
       "      <td>-</td>\n",
       "      <td>-</td>\n",
       "      <td>97.00000</td>\n",
       "      <td>112.000000</td>\n",
       "    </tr>\n",
       "    <tr>\n",
       "      <th>latitude</th>\n",
       "      <td>40.67497</td>\n",
       "      <td>40.89557</td>\n",
       "      <td>40.79951</td>\n",
       "      <td>40.81068</td>\n",
       "      <td>40.67632</td>\n",
       "      <td>float64</td>\n",
       "      <td>1000.0</td>\n",
       "      <td>40.58147</td>\n",
       "      <td>40.728265</td>\n",
       "      <td>40.89747</td>\n",
       "      <td>0.051538</td>\n",
       "    </tr>\n",
       "    <tr>\n",
       "      <th>longitude</th>\n",
       "      <td>-73.87305</td>\n",
       "      <td>-73.8447</td>\n",
       "      <td>-73.95257</td>\n",
       "      <td>-73.94288</td>\n",
       "      <td>-73.97616</td>\n",
       "      <td>float64</td>\n",
       "      <td>1000.0</td>\n",
       "      <td>-74.16534</td>\n",
       "      <td>-73.963382</td>\n",
       "      <td>-73.76133</td>\n",
       "      <td>0.033430</td>\n",
       "    </tr>\n",
       "    <tr>\n",
       "      <th>room_type</th>\n",
       "      <td>Entire home/apt</td>\n",
       "      <td>Private room</td>\n",
       "      <td>Entire home/apt</td>\n",
       "      <td>Private room</td>\n",
       "      <td>Entire home/apt</td>\n",
       "      <td>object</td>\n",
       "      <td>1000</td>\n",
       "      <td>-</td>\n",
       "      <td>-</td>\n",
       "      <td>3.00000</td>\n",
       "      <td>580.000000</td>\n",
       "    </tr>\n",
       "    <tr>\n",
       "      <th>price</th>\n",
       "      <td>169</td>\n",
       "      <td>50</td>\n",
       "      <td>130</td>\n",
       "      <td>125</td>\n",
       "      <td>250</td>\n",
       "      <td>int64</td>\n",
       "      <td>1000.0</td>\n",
       "      <td>20.0</td>\n",
       "      <td>158.282</td>\n",
       "      <td>3000.00000</td>\n",
       "      <td>152.031708</td>\n",
       "    </tr>\n",
       "    <tr>\n",
       "      <th>minimum_nights</th>\n",
       "      <td>3</td>\n",
       "      <td>2</td>\n",
       "      <td>2</td>\n",
       "      <td>1</td>\n",
       "      <td>7</td>\n",
       "      <td>int64</td>\n",
       "      <td>1000.0</td>\n",
       "      <td>1.0</td>\n",
       "      <td>9.137</td>\n",
       "      <td>365.00000</td>\n",
       "      <td>24.284521</td>\n",
       "    </tr>\n",
       "    <tr>\n",
       "      <th>number_of_reviews</th>\n",
       "      <td>177</td>\n",
       "      <td>15</td>\n",
       "      <td>35</td>\n",
       "      <td>11</td>\n",
       "      <td>18</td>\n",
       "      <td>int64</td>\n",
       "      <td>1000.0</td>\n",
       "      <td>0.0</td>\n",
       "      <td>79.865</td>\n",
       "      <td>480.00000</td>\n",
       "      <td>88.511169</td>\n",
       "    </tr>\n",
       "    <tr>\n",
       "      <th>reviews_per_month</th>\n",
       "      <td>1.86</td>\n",
       "      <td>0.17</td>\n",
       "      <td>0.42</td>\n",
       "      <td>0.12</td>\n",
       "      <td>0.21</td>\n",
       "      <td>float64</td>\n",
       "      <td>959.0</td>\n",
       "      <td>0.01</td>\n",
       "      <td>0.931241</td>\n",
       "      <td>7.14000</td>\n",
       "      <td>0.968909</td>\n",
       "    </tr>\n",
       "    <tr>\n",
       "      <th>calculated_host_listings_count</th>\n",
       "      <td>1</td>\n",
       "      <td>1</td>\n",
       "      <td>1</td>\n",
       "      <td>2</td>\n",
       "      <td>1</td>\n",
       "      <td>int64</td>\n",
       "      <td>1000.0</td>\n",
       "      <td>1.0</td>\n",
       "      <td>2.375</td>\n",
       "      <td>28.00000</td>\n",
       "      <td>4.403381</td>\n",
       "    </tr>\n",
       "    <tr>\n",
       "      <th>availability_365</th>\n",
       "      <td>297</td>\n",
       "      <td>337</td>\n",
       "      <td>41</td>\n",
       "      <td>365</td>\n",
       "      <td>18</td>\n",
       "      <td>int64</td>\n",
       "      <td>1000.0</td>\n",
       "      <td>0.0</td>\n",
       "      <td>169.895</td>\n",
       "      <td>365.00000</td>\n",
       "      <td>132.998009</td>\n",
       "    </tr>\n",
       "  </tbody>\n",
       "</table>\n",
       "</div>"
      ],
      "text/plain": [
       "                                            521           737  \\\n",
       "neighbourhood_group                    Brooklyn         Bronx   \n",
       "neighbourhood                     East New York     Wakefield   \n",
       "latitude                               40.67497      40.89557   \n",
       "longitude                             -73.87305      -73.8447   \n",
       "room_type                       Entire home/apt  Private room   \n",
       "price                                       169            50   \n",
       "minimum_nights                                3             2   \n",
       "number_of_reviews                           177            15   \n",
       "reviews_per_month                          1.86          0.17   \n",
       "calculated_host_listings_count                1             1   \n",
       "availability_365                            297           337   \n",
       "\n",
       "                                            740           660  \\\n",
       "neighbourhood_group                   Manhattan     Manhattan   \n",
       "neighbourhood                            Harlem        Harlem   \n",
       "latitude                               40.79951      40.81068   \n",
       "longitude                             -73.95257     -73.94288   \n",
       "room_type                       Entire home/apt  Private room   \n",
       "price                                       130           125   \n",
       "minimum_nights                                2             1   \n",
       "number_of_reviews                            35            11   \n",
       "reviews_per_month                          0.42          0.12   \n",
       "calculated_host_listings_count                1             2   \n",
       "availability_365                             41           365   \n",
       "\n",
       "                                            411 datatypes   count       min  \\\n",
       "neighbourhood_group                    Brooklyn    object    1000         -   \n",
       "neighbourhood                        Park Slope    object    1000         -   \n",
       "latitude                               40.67632   float64  1000.0  40.58147   \n",
       "longitude                             -73.97616   float64  1000.0 -74.16534   \n",
       "room_type                       Entire home/apt    object    1000         -   \n",
       "price                                       250     int64  1000.0      20.0   \n",
       "minimum_nights                                7     int64  1000.0       1.0   \n",
       "number_of_reviews                            18     int64  1000.0       0.0   \n",
       "reviews_per_month                          0.21   float64   959.0      0.01   \n",
       "calculated_host_listings_count                1     int64  1000.0       1.0   \n",
       "availability_365                             18     int64  1000.0       0.0   \n",
       "\n",
       "                                     mean  max / unique  std / freq  \n",
       "neighbourhood_group                     -       5.00000  470.000000  \n",
       "neighbourhood                           -      97.00000  112.000000  \n",
       "latitude                        40.728265      40.89747    0.051538  \n",
       "longitude                      -73.963382     -73.76133    0.033430  \n",
       "room_type                               -       3.00000  580.000000  \n",
       "price                             158.282    3000.00000  152.031708  \n",
       "minimum_nights                      9.137     365.00000   24.284521  \n",
       "number_of_reviews                  79.865     480.00000   88.511169  \n",
       "reviews_per_month                0.931241       7.14000    0.968909  \n",
       "calculated_host_listings_count      2.375      28.00000    4.403381  \n",
       "availability_365                  169.895     365.00000  132.998009  "
      ]
     },
     "metadata": {},
     "output_type": "display_data"
    },
    {
     "data": {
      "text/html": [
       "<hr><b>Numeric columns (3):</b>"
      ],
      "text/plain": [
       "<IPython.core.display.HTML object>"
      ]
     },
     "metadata": {},
     "output_type": "display_data"
    },
    {
     "name": "stdout",
     "output_type": "stream",
     "text": [
      "['neighbourhood_group', 'neighbourhood', 'room_type']\n"
     ]
    },
    {
     "data": {
      "text/html": [
       "<hr><b>String columns (8):</b>"
      ],
      "text/plain": [
       "<IPython.core.display.HTML object>"
      ]
     },
     "metadata": {},
     "output_type": "display_data"
    },
    {
     "name": "stdout",
     "output_type": "stream",
     "text": [
      "['latitude', 'longitude', 'price', 'minimum_nights', 'number_of_reviews', 'reviews_per_month', 'calculated_host_listings_count', 'availability_365']\n"
     ]
    },
    {
     "data": {
      "text/html": [
       "<hr>"
      ],
      "text/plain": [
       "<IPython.core.display.HTML object>"
      ]
     },
     "metadata": {},
     "output_type": "display_data"
    },
    {
     "name": "stdout",
     "output_type": "stream",
     "text": [
      "Wall time: 32.5 ms\n"
     ]
    }
   ],
   "source": [
    "%%time\n",
    "\n",
    "topNrows = 1000\n",
    "strFileName='AB_NYC_2019.csv'\n",
    "df = pd.read_csv(strFileName, delimiter=',', nrows = topNrows)\n",
    "\n",
    "df=df.drop(columns=['id', 'name', 'host_id', 'host_name', 'last_review'])\n",
    "\n",
    "lst_num, lst_str= short_describe(df)"
   ]
  },
  {
   "cell_type": "code",
   "execution_count": null,
   "id": "9d95cb9b",
   "metadata": {},
   "outputs": [],
   "source": [
    "sns.pairplot(data=tips_raw,vars=[\"tip\",\"size\",\"total_bill\"], hue=\"sex\")"
   ]
  },
  {
   "cell_type": "code",
   "execution_count": null,
   "id": "ee254256",
   "metadata": {},
   "outputs": [],
   "source": []
  },
  {
   "cell_type": "code",
   "execution_count": null,
   "id": "613e0454",
   "metadata": {},
   "outputs": [],
   "source": []
  },
  {
   "cell_type": "code",
   "execution_count": null,
   "id": "b4995b92",
   "metadata": {},
   "outputs": [],
   "source": []
  },
  {
   "cell_type": "code",
   "execution_count": null,
   "id": "dd0346c0",
   "metadata": {},
   "outputs": [],
   "source": []
  },
  {
   "cell_type": "markdown",
   "id": "1f97fef4",
   "metadata": {},
   "source": [
    "<hr>\n",
    "\n",
    "### Часть 2. Preprocessing & Feature Engineering\n",
    "\n",
    "<br>Ваша цель получить как можно более высокие метрики качества (можно взять несколько, R2, MAE, RMSE), сконцентрировавшись на преобразовании признаков.\n",
    "<br>Опробуйте различные техники:\n",
    "<ul><li>работа с категориальными переменными (можно начать с dummy);</li>\n",
    "<li>замена аномалий;</li>\n",
    "<li>различные варианты шкалирования непрерывных переменных (StandardScaler, RobustScaler, и.т.д.);</li>\n",
    "<li>обратите внимание на распределение целевой переменной, возможно, с ней тоже можно поработать;</li>\n",
    "</ul>\n",
    "Попробуйте на основании имеющихся переменных создать новые, которые могли бы улучшить качество модели. Например, можно найти координаты Манхэттена (самого дорогого района) и при помощи широты и долготы, а также евклидового расстояния создать новую переменную - расстояние от квартиры до этого района. Возможно, такой признак будет работать лучше, чем просто широта и долгота."
   ]
  },
  {
   "cell_type": "code",
   "execution_count": null,
   "id": "d6ff5256",
   "metadata": {},
   "outputs": [],
   "source": []
  },
  {
   "cell_type": "code",
   "execution_count": null,
   "id": "78d4b4a7",
   "metadata": {},
   "outputs": [],
   "source": []
  },
  {
   "cell_type": "code",
   "execution_count": null,
   "id": "f72ffeb4",
   "metadata": {},
   "outputs": [],
   "source": []
  },
  {
   "cell_type": "code",
   "execution_count": null,
   "id": "aaee12dc",
   "metadata": {},
   "outputs": [],
   "source": []
  },
  {
   "cell_type": "markdown",
   "id": "46323041",
   "metadata": {},
   "source": [
    "<hr>\n",
    "\n",
    "### Часть 3. Моделирование\n",
    "\n",
    "<br>Отложите 30% данных для тестирования.\n",
    "<br>Постройте модели простой линейной регрессии, RidgeCV, LassoCV и ElasticNetCV.\n",
    "<br>Измерьте качество каждой и визуализируйте важность признаков.\n",
    "<br>Сделайте интересные выводы :)"
   ]
  },
  {
   "cell_type": "code",
   "execution_count": null,
   "id": "eec81f05",
   "metadata": {},
   "outputs": [],
   "source": []
  },
  {
   "cell_type": "code",
   "execution_count": null,
   "id": "7f324fef",
   "metadata": {},
   "outputs": [],
   "source": []
  },
  {
   "cell_type": "code",
   "execution_count": null,
   "id": "5cb9eaf4",
   "metadata": {},
   "outputs": [],
   "source": []
  }
 ],
 "metadata": {
  "kernelspec": {
   "display_name": "Python 3 (ipykernel)",
   "language": "python",
   "name": "python3"
  },
  "language_info": {
   "codemirror_mode": {
    "name": "ipython",
    "version": 3
   },
   "file_extension": ".py",
   "mimetype": "text/x-python",
   "name": "python",
   "nbconvert_exporter": "python",
   "pygments_lexer": "ipython3",
   "version": "3.9.13"
  }
 },
 "nbformat": 4,
 "nbformat_minor": 5
}
