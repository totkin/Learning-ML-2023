{
 "cells": [
  {
   "cell_type": "markdown",
   "id": "9e09aa37",
   "metadata": {},
   "source": [
    "## Домашняя работа 6\n",
    "фев'24\n",
    "<hr>\n",
    "\n",
    "### Часть 1. EDA\n",
    "\n",
    "<br>Скачайте данные с Kaggle по ценам на жильё в Airbnb в Нью-Йорке:\n",
    "<br>Пройдите по основным шагам работы с данными:\n",
    "<ul><li>выкиньте ненужные признаки: id, name, host_id, host_name, last_review</li>\n",
    "<li>визуализируйте базовые статистики данных: распределения признаков, матрицу попарных корреляций, постройте pair plots</li>\n",
    "<li>про результатам анализа произведите предобработку переменных</li></ul>"
   ]
  },
  {
   "cell_type": "code",
   "execution_count": null,
   "id": "e279440f",
   "metadata": {},
   "outputs": [],
   "source": []
  },
  {
   "cell_type": "code",
   "execution_count": null,
   "id": "e2a69877",
   "metadata": {},
   "outputs": [],
   "source": []
  },
  {
   "cell_type": "markdown",
   "id": "1f679052",
   "metadata": {},
   "source": [
    "<hr>\n",
    "\n",
    "### Часть 2. Preprocessing & Feature Engineering\n",
    "\n",
    "<br>Ваша цель получить как можно более высокие метрики качества (можно взять несколько, R2, MAE, RMSE), сконцентрировавшись на преобразовании признаков.\n",
    "<br>Опробуйте различные техники:\n",
    "<ul><li>работа с категориальными переменными (можно начать с dummy);</li>\n",
    "<li>замена аномалий;</li>\n",
    "<li>различные варианты шкалирования непрерывных переменных (StandardScaler, RobustScaler, и.т.д.);</li>\n",
    "<li>обратите внимание на распределение целевой переменной, возможно, с ней тоже можно поработать;</li>\n",
    "</ul>\n",
    "Попробуйте на основании имеющихся переменных создать новые, которые могли бы улучшить качество модели. Например, можно найти координаты Манхэттена (самого дорогого района) и при помощи широты и долготы, а также евклидового расстояния создать новую переменную - расстояние от квартиры до этого района. Возможно, такой признак будет работать лучше, чем просто широта и долгота."
   ]
  },
  {
   "cell_type": "code",
   "execution_count": null,
   "id": "3774d27b",
   "metadata": {},
   "outputs": [],
   "source": []
  },
  {
   "cell_type": "code",
   "execution_count": null,
   "id": "190be364",
   "metadata": {},
   "outputs": [],
   "source": []
  },
  {
   "cell_type": "markdown",
   "id": "13d74f81",
   "metadata": {},
   "source": [
    "<hr>\n",
    "\n",
    "### Часть 3. Моделирование\n",
    "\n",
    "<br>Отложите 30% данных для тестирования.\n",
    "<br>Постройте модели простой линейной регрессии, RidgeCV, LassoCV и ElasticNetCV.\n",
    "<br>Измерьте качество каждой и визуализируйте важность признаков.\n",
    "<br>Сделайте интересные выводы :)"
   ]
  },
  {
   "cell_type": "code",
   "execution_count": null,
   "id": "8ae4cb22",
   "metadata": {},
   "outputs": [],
   "source": []
  }
 ],
 "metadata": {
  "kernelspec": {
   "display_name": "Python 3 (ipykernel)",
   "language": "python",
   "name": "python3"
  },
  "language_info": {
   "codemirror_mode": {
    "name": "ipython",
    "version": 3
   },
   "file_extension": ".py",
   "mimetype": "text/x-python",
   "name": "python",
   "nbconvert_exporter": "python",
   "pygments_lexer": "ipython3",
   "version": "3.9.13"
  }
 },
 "nbformat": 4,
 "nbformat_minor": 5
}
